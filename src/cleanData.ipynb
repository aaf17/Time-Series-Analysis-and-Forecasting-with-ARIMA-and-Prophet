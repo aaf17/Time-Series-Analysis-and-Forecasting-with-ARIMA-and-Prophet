{
 "cells": [
  {
   "cell_type": "code",
   "execution_count": 1,
   "metadata": {},
   "outputs": [],
   "source": [
    "#import the libraries\n",
    "import pandas as pd"
   ]
  },
  {
   "cell_type": "code",
   "execution_count": 2,
   "metadata": {},
   "outputs": [
    {
     "name": "stdout",
     "output_type": "stream",
     "text": [
      "      Back to Contents  \\\n",
      "0            Sourcekey   \n",
      "1                 Date   \n",
      "2  1987-05-20 00:00:00   \n",
      "3  1987-05-21 00:00:00   \n",
      "4  1987-05-22 00:00:00   \n",
      "\n",
      "  Data 1: Europe Brent Spot Price FOB (Dollars per Barrel)  \n",
      "0                                              RBRTE        \n",
      "1   Europe Brent Spot Price FOB (Dollars per Barrel)        \n",
      "2                                              18.63        \n",
      "3                                              18.45        \n",
      "4                                              18.55        \n"
     ]
    }
   ],
   "source": [
    "# Read oil price and transform data\n",
    "\n",
    "data    =   pd.ExcelFile(\"Dataset/RBRTEd.xls\") # Read Excel\n",
    "data_xls    =  data.parse(\"Data 1\",index_col=None) # Read sheet Data 1\n",
    "print(data_xls.head())"
   ]
  },
  {
   "cell_type": "code",
   "execution_count": 3,
   "metadata": {},
   "outputs": [
    {
     "name": "stdout",
     "output_type": "stream",
     "text": [
      "Length of dataframe before cleaning: 7643\n"
     ]
    }
   ],
   "source": [
    "print(\"Length of dataframe before cleaning: {}\".format(len(data_xls)))"
   ]
  },
  {
   "cell_type": "code",
   "execution_count": 4,
   "metadata": {},
   "outputs": [],
   "source": [
    "data_xls.columns    =   data_xls.iloc[1] # set row 1 as column name\n",
    "data_xls    =   data_xls.iloc[2:] # remove the first 2 rows\n",
    "data_xls[\"Date\"]    =   data_xls[\"Date\"].astype('datetime64[ns]') # Convert column to date format\n",
    "data_xls.columns    =   [\"Date\",\"Price\"]  # Seting up the column names\n",
    "data_xls.to_csv('Dataset/BrentOilPrice.csv', encoding='utf-8')  # Converting the xls file to csv format"
   ]
  },
  {
   "cell_type": "code",
   "execution_count": 5,
   "metadata": {},
   "outputs": [],
   "source": [
    "# Saving the generated csv file to Dataset folder with the new file name\n",
    "# Dropping columns which are not required\n",
    "df    =   pd.read_csv(\"Dataset/BrentOilPrice.csv\").drop(['Unnamed: 0'],axis=1)"
   ]
  },
  {
   "cell_type": "code",
   "execution_count": 6,
   "metadata": {},
   "outputs": [],
   "source": [
    "df[\"Date\"]  =   pd.to_datetime(df['Date']) # Converting to a datetime"
   ]
  },
  {
   "cell_type": "code",
   "execution_count": 7,
   "metadata": {},
   "outputs": [
    {
     "name": "stdout",
     "output_type": "stream",
     "text": [
      "        Date  Price\n",
      "0 1987-05-20  18.63\n",
      "1 1987-05-21  18.45\n",
      "2 1987-05-22  18.55\n",
      "3 1987-05-25  18.60\n",
      "4 1987-05-26  18.63\n"
     ]
    }
   ],
   "source": [
    "print(df.head())  # Print the top rows and columns of generated csv file"
   ]
  },
  {
   "cell_type": "code",
   "execution_count": 8,
   "metadata": {},
   "outputs": [
    {
     "name": "stdout",
     "output_type": "stream",
     "text": [
      "(7641, 2)\n"
     ]
    }
   ],
   "source": [
    "print(df.shape)  # Get the shape of the dataset"
   ]
  },
  {
   "cell_type": "code",
   "execution_count": 9,
   "metadata": {},
   "outputs": [
    {
     "name": "stdout",
     "output_type": "stream",
     "text": [
      "             Price\n",
      "count  7641.000000\n",
      "mean     44.875166\n",
      "std      33.383360\n",
      "min       9.100000\n",
      "25%      18.500000\n",
      "50%      28.460000\n",
      "75%      64.700000\n",
      "max     143.950000\n"
     ]
    }
   ],
   "source": [
    "print(df.describe())    # Statistical characteristics of the dataset"
   ]
  },
  {
   "cell_type": "code",
   "execution_count": 10,
   "metadata": {},
   "outputs": [
    {
     "name": "stdout",
     "output_type": "stream",
     "text": [
      "Date     0\n",
      "Price    0\n",
      "dtype: int64\n"
     ]
    }
   ],
   "source": [
    "print(df.isnull().sum())    # To check if the data contains any null value"
   ]
  },
  {
   "cell_type": "code",
   "execution_count": 11,
   "metadata": {},
   "outputs": [
    {
     "name": "stdout",
     "output_type": "stream",
     "text": [
      "Date     7641\n",
      "Price    7641\n",
      "dtype: int64\n"
     ]
    }
   ],
   "source": [
    "print(df.notnull().sum())   # To check if the data contains any missing value"
   ]
  },
  {
   "cell_type": "code",
   "execution_count": 12,
   "metadata": {},
   "outputs": [
    {
     "name": "stdout",
     "output_type": "stream",
     "text": [
      "<class 'pandas.core.frame.DataFrame'>\n",
      "RangeIndex: 7641 entries, 0 to 7640\n",
      "Data columns (total 2 columns):\n",
      "Date     7641 non-null datetime64[ns]\n",
      "Price    7641 non-null float64\n",
      "dtypes: datetime64[ns](1), float64(1)\n",
      "memory usage: 119.5 KB\n",
      "None\n"
     ]
    }
   ],
   "source": [
    "print(df.info())"
   ]
  },
  {
   "cell_type": "code",
   "execution_count": 13,
   "metadata": {},
   "outputs": [],
   "source": [
    "df.to_csv('Dataset/clean_data.csv', index=False)"
   ]
  }
 ],
 "metadata": {
  "kernelspec": {
   "display_name": "Python 3",
   "language": "python",
   "name": "python3"
  },
  "language_info": {
   "codemirror_mode": {
    "name": "ipython",
    "version": 3
   },
   "file_extension": ".py",
   "mimetype": "text/x-python",
   "name": "python",
   "nbconvert_exporter": "python",
   "pygments_lexer": "ipython3",
   "version": "3.7.1"
  }
 },
 "nbformat": 4,
 "nbformat_minor": 2
}
